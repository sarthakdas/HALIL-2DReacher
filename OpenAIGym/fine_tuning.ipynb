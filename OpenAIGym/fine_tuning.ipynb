{
 "cells": [
  {
   "cell_type": "code",
   "execution_count": 63,
   "metadata": {},
   "outputs": [],
   "source": [
    "import numpy as np\n",
    "import pickle\n",
    "from typing import *\n",
    "import os \n",
    "import tiktoken # for token counting\n",
    "import json\n",
    "from collections import defaultdict"
   ]
  },
  {
   "cell_type": "code",
   "execution_count": 64,
   "metadata": {},
   "outputs": [],
   "source": [
    "def convert_to_prompt_tokens(list: List[int]) -> List[int]:\n",
    "    '''\n",
    "    multiply by 100 and remove decimal places\n",
    "    '''\n",
    "\n",
    "    return [int(x * 100) for x in list]\n",
    "\n",
    "def _construct_demonstations(path) -> List[dict]:\n",
    "    '''\n",
    "    Construct the demonstrations for the LLM\n",
    "    '''\n",
    "    demonstation_prompt: List[dict] = []\n",
    "\n",
    "    demonstation_folder = path\n",
    "\n",
    "    for file in os.listdir(demonstation_folder):\n",
    "        # open each folder and load in the demonstrations\n",
    "        if os.path.isdir(demonstation_folder + '/' + file):\n",
    "            for demo in os.listdir(demonstation_folder + '/' + file):\n",
    "                if demo.endswith('.pkl'):\n",
    "                    with open(demonstation_folder + '/' + file + '/' + demo, 'rb') as f:\n",
    "                        data = pickle.load(f)\n",
    "\n",
    "                        goal_tokens = convert_to_prompt_tokens(data['config']['goal'])\n",
    "                        initial_positions_tokens = convert_to_prompt_tokens(data['config']['initial_position'])\n",
    "\n",
    "                        ee_states: List[List[int]] = data['data']['ee_states']\n",
    "                        ee_states_tokens = []\n",
    "                        for i in range(len(ee_states)):\n",
    "                            ee_states_tokens.append(convert_to_prompt_tokens(ee_states[i]))\n",
    "\n",
    "\n",
    "                        demonstation_prompt.append({\n",
    "                            'goal': goal_tokens,\n",
    "                            'initial_position': initial_positions_tokens,\n",
    "                            'ee_states': ee_states_tokens\n",
    "                        })\n",
    "\n",
    "    \n",
    "    return demonstation_prompt"
   ]
  },
  {
   "cell_type": "code",
   "execution_count": 65,
   "metadata": {},
   "outputs": [],
   "source": [
    "data = _construct_demonstations('demonstration_dataset_1500')\n"
   ]
  },
  {
   "cell_type": "code",
   "execution_count": 66,
   "metadata": {},
   "outputs": [],
   "source": [
    "SYSTEM_ROLE = \"You are a waypoint generator from the starting coordinates (first 2 values) to the goal (last 2 values). The robot has two arms of lengths 1 and 1 and operates on an X,Y plane.\"\n",
    "JSONL_FILE_PATH = 'demonstration_runs.jsonl'"
   ]
  },
  {
   "cell_type": "code",
   "execution_count": 67,
   "metadata": {},
   "outputs": [
    {
     "name": "stdout",
     "output_type": "stream",
     "text": [
      "{'messages': [{'role': 'system', 'content': 'You are a waypoint generator from the starting coordinates (first 2 values) to the goal (last 2 values). The robot has two arms of lengths 1 and 1 and operates on an X,Y plane.'}, {'role': 'user', 'content': '[79, 40] -> [58, 76]'}, {'role': 'assistant', 'content': '[[83, 48], [78, 56], [72, 64], [65, 71]]'}]}\n"
     ]
    }
   ],
   "source": [
    "conversion_list = []\n",
    "\n",
    "for i in range(len(data)):\n",
    "    starting_position = data[i]['initial_position']\n",
    "    goal = data[i]['goal']\n",
    "    starting_obs = str(starting_position) + ' -> ' + str(goal)\n",
    "    action_token_trajectory = data[i]['ee_states']\n",
    "\n",
    "    conversation = {\"messages\": [{\"role\": \"system\", \"content\": str(SYSTEM_ROLE)}, {\"role\": \"user\", \"content\": str(starting_obs)}, {\"role\": \"assistant\", \"content\": str(action_token_trajectory)}]}\n",
    "    conversion_list.append(conversation)\n",
    "\n",
    "print(conversion_list[0])\n",
    "\n",
    "# Define the file path for the JSONL file\n",
    "with open(JSONL_FILE_PATH, 'w') as file:\n",
    "    for conversation in conversion_list:\n",
    "        json.dump(conversation, file)\n",
    "        file.write('\\n')  # Add a newline at the end of each JSON object"
   ]
  },
  {
   "cell_type": "markdown",
   "metadata": {},
   "source": [
    "# Validation"
   ]
  },
  {
   "cell_type": "code",
   "execution_count": 68,
   "metadata": {},
   "outputs": [
    {
     "name": "stdout",
     "output_type": "stream",
     "text": [
      "Num examples: 1500\n",
      "First example:\n",
      "{'role': 'system', 'content': 'You are a waypoint generator from the starting coordinates (first 2 values) to the goal (last 2 values). The robot has two arms of lengths 1 and 1 and operates on an X,Y plane.'}\n",
      "{'role': 'user', 'content': '[79, 40] -> [58, 76]'}\n",
      "{'role': 'assistant', 'content': '[[83, 48], [78, 56], [72, 64], [65, 71]]'}\n"
     ]
    }
   ],
   "source": [
    "# Load the dataset\n",
    "with open(JSONL_FILE_PATH, 'r', encoding='utf-8') as f:\n",
    "    dataset = [json.loads(line) for line in f]\n",
    "\n",
    "# Initial dataset stats\n",
    "print(\"Num examples:\", len(dataset))\n",
    "print(\"First example:\")\n",
    "for message in dataset[0][\"messages\"]:\n",
    "    print(message)"
   ]
  },
  {
   "cell_type": "code",
   "execution_count": 69,
   "metadata": {},
   "outputs": [
    {
     "name": "stdout",
     "output_type": "stream",
     "text": [
      "No errors found\n"
     ]
    }
   ],
   "source": [
    "# Format error checks\n",
    "format_errors = defaultdict(int)\n",
    "\n",
    "for i,ex in enumerate(dataset):\n",
    "    if not isinstance(ex, dict):\n",
    "        format_errors[\"data_type\"] += 1\n",
    "        continue\n",
    "        \n",
    "    messages = ex.get(\"messages\", None)\n",
    "    if not messages:\n",
    "        format_errors[\"missing_messages_list\"] += 1\n",
    "        continue\n",
    "        \n",
    "    for message in messages:\n",
    "        if \"role\" not in message or \"content\" not in message:\n",
    "            format_errors[\"message_missing_key\"] += 1\n",
    "        \n",
    "        if any(k not in (\"role\", \"content\", \"name\", \"function_call\", \"weight\") for k in message):\n",
    "            format_errors[\"message_unrecognized_key\"] += 1\n",
    "            # print(\"error in message\", i, message)\n",
    "        \n",
    "        if message.get(\"role\", None) not in (\"system\", \"user\", \"assistant\", \"function\"):\n",
    "            format_errors[\"unrecognized_role\"] += 1\n",
    "            \n",
    "        content = message.get(\"content\", None)\n",
    "        function_call = message.get(\"function_call\", None)\n",
    "        \n",
    "        if (not content and not function_call) or not isinstance(content, str):\n",
    "            format_errors[\"missing_content\"] += 1\n",
    "            # print(\"error in message\", i, message)\n",
    "    \n",
    "    if not any(message.get(\"role\", None) == \"assistant\" for message in messages):\n",
    "        format_errors[\"example_missing_assistant_message\"] += 1\n",
    "\n",
    "if format_errors:\n",
    "    print(\"Found errors:\")\n",
    "    for k, v in format_errors.items():\n",
    "        print(f\"{k}: {v}\")\n",
    "else:\n",
    "    print(\"No errors found\")"
   ]
  },
  {
   "cell_type": "code",
   "execution_count": 70,
   "metadata": {},
   "outputs": [],
   "source": [
    "encoding = tiktoken.get_encoding(\"cl100k_base\")\n",
    "\n",
    "# not exact!\n",
    "# simplified from https://github.com/openai/openai-cookbook/blob/main/examples/How_to_count_tokens_with_tiktoken.ipynb\n",
    "def num_tokens_from_messages(messages, tokens_per_message=3, tokens_per_name=1):\n",
    "    num_tokens = 0\n",
    "    for message in messages:\n",
    "        num_tokens += tokens_per_message\n",
    "        for key, value in message.items():\n",
    "            num_tokens += len(encoding.encode(value))\n",
    "            if key == \"name\":\n",
    "                num_tokens += tokens_per_name\n",
    "    num_tokens += 3\n",
    "    return num_tokens\n",
    "\n",
    "def num_assistant_tokens_from_messages(messages):\n",
    "    num_tokens = 0\n",
    "    for message in messages:\n",
    "        if message[\"role\"] == \"assistant\":\n",
    "            num_tokens += len(encoding.encode(message[\"content\"]))\n",
    "    return num_tokens\n",
    "\n",
    "def print_distribution(values, name):\n",
    "    print(f\"\\n#### Distribution of {name}:\")\n",
    "    print(f\"min / max: {min(values)}, {max(values)}\")\n",
    "    print(f\"mean / median: {np.mean(values)}, {np.median(values)}\")\n",
    "    print(f\"p5 / p95: {np.quantile(values, 0.1)}, {np.quantile(values, 0.9)}\")"
   ]
  },
  {
   "cell_type": "code",
   "execution_count": 71,
   "metadata": {},
   "outputs": [
    {
     "name": "stdout",
     "output_type": "stream",
     "text": [
      "Num examples missing system message: 0\n",
      "Num examples missing user message: 0\n",
      "\n",
      "#### Distribution of num_messages_per_example:\n",
      "min / max: 3, 3\n",
      "mean / median: 3.0, 3.0\n",
      "p5 / p95: 3.0, 3.0\n",
      "\n",
      "#### Distribution of num_total_tokens_per_example:\n",
      "min / max: 78, 259\n",
      "mean / median: 172.08733333333333, 169.0\n",
      "p5 / p95: 108.0, 241.0\n",
      "\n",
      "#### Distribution of num_assistant_tokens_per_example:\n",
      "min / max: 6, 187\n",
      "mean / median: 100.08733333333333, 97.0\n",
      "p5 / p95: 36.0, 169.0\n",
      "\n",
      "0 examples may be over the 16,385 token limit, they will be truncated during fine-tuning\n"
     ]
    }
   ],
   "source": [
    "n_missing_system = 0\n",
    "n_missing_user = 0\n",
    "n_messages = []\n",
    "convo_lens = []\n",
    "assistant_message_lens = []\n",
    "\n",
    "for ex in dataset:\n",
    "    messages = ex[\"messages\"]\n",
    "    if not any(message[\"role\"] == \"system\" for message in messages):\n",
    "        n_missing_system += 1\n",
    "    if not any(message[\"role\"] == \"user\" for message in messages):\n",
    "        n_missing_user += 1\n",
    "    n_messages.append(len(messages))\n",
    "    convo_lens.append(num_tokens_from_messages(messages))\n",
    "    assistant_message_lens.append(num_assistant_tokens_from_messages(messages))\n",
    "    \n",
    "print(\"Num examples missing system message:\", n_missing_system)\n",
    "print(\"Num examples missing user message:\", n_missing_user)\n",
    "print_distribution(n_messages, \"num_messages_per_example\")\n",
    "print_distribution(convo_lens, \"num_total_tokens_per_example\")\n",
    "print_distribution(assistant_message_lens, \"num_assistant_tokens_per_example\")\n",
    "n_too_long = sum(l > 16385 for l in convo_lens)\n",
    "print(f\"\\n{n_too_long} examples may be over the 16,385 token limit, they will be truncated during fine-tuning\")\n"
   ]
  },
  {
   "cell_type": "code",
   "execution_count": 72,
   "metadata": {},
   "outputs": [
    {
     "name": "stdout",
     "output_type": "stream",
     "text": [
      "Dataset has ~258131 tokens that will be charged for during training\n",
      "By default, you'll train for 3 epochs on this dataset\n",
      "By default, you'll be charged for ~774393 tokens\n"
     ]
    }
   ],
   "source": [
    "MAX_TOKENS_PER_EXAMPLE = 16385\n",
    "\n",
    "TARGET_EPOCHS = 3\n",
    "MIN_TARGET_EXAMPLES = 100\n",
    "MAX_TARGET_EXAMPLES = 25000\n",
    "MIN_DEFAULT_EPOCHS = 1\n",
    "MAX_DEFAULT_EPOCHS = 25\n",
    "\n",
    "n_epochs = TARGET_EPOCHS\n",
    "n_train_examples = len(dataset)\n",
    "if n_train_examples * TARGET_EPOCHS < MIN_TARGET_EXAMPLES:\n",
    "    n_epochs = min(MAX_DEFAULT_EPOCHS, MIN_TARGET_EXAMPLES // n_train_examples)\n",
    "elif n_train_examples * TARGET_EPOCHS > MAX_TARGET_EXAMPLES:\n",
    "    n_epochs = max(MIN_DEFAULT_EPOCHS, MAX_TARGET_EXAMPLES // n_train_examples)\n",
    "\n",
    "n_billing_tokens_in_dataset = sum(min(MAX_TOKENS_PER_EXAMPLE, length) for length in convo_lens)\n",
    "print(f\"Dataset has ~{n_billing_tokens_in_dataset} tokens that will be charged for during training\")\n",
    "print(f\"By default, you'll train for {n_epochs} epochs on this dataset\")\n",
    "print(f\"By default, you'll be charged for ~{n_epochs * n_billing_tokens_in_dataset} tokens\")"
   ]
  }
 ],
 "metadata": {
  "kernelspec": {
   "display_name": "reacher_env",
   "language": "python",
   "name": "python3"
  },
  "language_info": {
   "codemirror_mode": {
    "name": "ipython",
    "version": 3
   },
   "file_extension": ".py",
   "mimetype": "text/x-python",
   "name": "python",
   "nbconvert_exporter": "python",
   "pygments_lexer": "ipython3",
   "version": "3.12.4"
  }
 },
 "nbformat": 4,
 "nbformat_minor": 2
}
