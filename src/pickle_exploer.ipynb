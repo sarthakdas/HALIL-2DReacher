{
 "cells": [
  {
   "cell_type": "code",
   "execution_count": 138,
   "metadata": {},
   "outputs": [],
   "source": [
    "import pickle\n",
    "import numpy as np"
   ]
  },
  {
   "cell_type": "code",
   "execution_count": 139,
   "metadata": {},
   "outputs": [],
   "source": [
    "path = \"/Users/sarthakdas/Library/Mobile Documents/com~apple~CloudDocs/ComputerScience/Masters/OpenAIGym/_cp_huge_run/run_ik_10/output.pkl\""
   ]
  },
  {
   "cell_type": "code",
   "execution_count": 140,
   "metadata": {},
   "outputs": [
    {
     "data": {
      "text/plain": [
       "dict_keys(['config', 'data', 'sucessful'])"
      ]
     },
     "execution_count": 140,
     "metadata": {},
     "output_type": "execute_result"
    }
   ],
   "source": [
    "# load the pickle data\n",
    "with open(path, 'rb') as f:\n",
    "    data = pickle.load(f)\n",
    "\n",
    "data.keys()\n"
   ]
  },
  {
   "cell_type": "code",
   "execution_count": 141,
   "metadata": {},
   "outputs": [
    {
     "name": "stdout",
     "output_type": "stream",
     "text": [
      "96\n"
     ]
    }
   ],
   "source": [
    "actions = data[\"data\"][\"actions\"]\n",
    "\n",
    "print(len(actions))\n",
    "# print the data\n",
    "for action in actions:\n",
    "    # print(action)\n",
    "    pass"
   ]
  },
  {
   "cell_type": "code",
   "execution_count": 142,
   "metadata": {},
   "outputs": [
    {
     "data": {
      "text/plain": [
       "np.True_"
      ]
     },
     "execution_count": 142,
     "metadata": {},
     "output_type": "execute_result"
    }
   ],
   "source": [
    "data[\"sucessful\"]"
   ]
  },
  {
   "cell_type": "markdown",
   "metadata": {},
   "source": [
    "---"
   ]
  },
  {
   "cell_type": "code",
   "execution_count": 143,
   "metadata": {},
   "outputs": [
    {
     "name": "stdout",
     "output_type": "stream",
     "text": [
      "0.29000000000000004\n",
      "[np.float64(0.08448690393879787), np.float64(0.4399216067577947), np.float64(0.22965921571959919), np.float64(0.11989262366066392), np.float64(0.12603964992314423)]\n",
      "[np.float64(0.4399216067577947)]\n"
     ]
    }
   ],
   "source": [
    "token_probs = []\n",
    "\n",
    "for ensomble in data['data']['ensomble']:\n",
    "    token_probs.append(ensomble['logprob'])\n",
    "\n",
    "confidence_level = 0.29\n",
    "qhat = 1 - confidence_level\n",
    "\n",
    "prediction_set = [\n",
    "    token for token_ind, token in enumerate(token_probs)\n",
    "    if token_probs[token_ind] >= 1 - qhat\n",
    "]\n",
    "\n",
    "print(1 - qhat)\n",
    "print(token_probs)\n",
    "print(prediction_set)\n"
   ]
  }
 ],
 "metadata": {
  "kernelspec": {
   "display_name": "reacher_env",
   "language": "python",
   "name": "python3"
  },
  "language_info": {
   "codemirror_mode": {
    "name": "ipython",
    "version": 3
   },
   "file_extension": ".py",
   "mimetype": "text/x-python",
   "name": "python",
   "nbconvert_exporter": "python",
   "pygments_lexer": "ipython3",
   "version": "3.12.4"
  }
 },
 "nbformat": 4,
 "nbformat_minor": 2
}
